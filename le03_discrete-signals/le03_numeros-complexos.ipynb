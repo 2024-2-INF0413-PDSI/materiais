{
 "cells": [
  {
   "cell_type": "markdown",
   "id": "8cc4e00a",
   "metadata": {},
   "source": [
    "# Números complexos\n",
    "Neste Notebook trabalharemos sobre a noção de número complexo e sua representação no plano\n",
    "1. Complexos\n",
    "2. Magnitude e fase\n",
    "3. Gráfico"
   ]
  },
  {
   "cell_type": "code",
   "execution_count": null,
   "id": "78707532",
   "metadata": {},
   "outputs": [],
   "source": [
    "import numpy as np\n",
    "import matplotlib.pyplot as plt"
   ]
  },
  {
   "cell_type": "markdown",
   "id": "6eb711d7-e6c3-42f5-9833-1c6d6d99eb23",
   "metadata": {},
   "source": [
    "## Notação complexa\n",
    "Escreva o número complexo $z = (3, 4j)$ nas formas cartesiana e polar e suas respectivas equivalências.\n",
    "\n",
    "Lembre que:\n",
    "\n",
    "- Cartesiana: $ z = a + jb $\n",
    "- Polar     : $ z = \\rho e^{j \\theta}$"
   ]
  },
  {
   "cell_type": "code",
   "execution_count": null,
   "id": "c6b7109c",
   "metadata": {},
   "outputs": [],
   "source": [
    "# Resposta"
   ]
  },
  {
   "cell_type": "code",
   "execution_count": null,
   "id": "5fd6395a",
   "metadata": {},
   "outputs": [],
   "source": [
    "print(type(z))"
   ]
  },
  {
   "cell_type": "markdown",
   "id": "972f5201",
   "metadata": {},
   "source": [
    "## Desafio\n",
    "Escreva funções \"***próprias***\" para calcular o módulo e fase de um complexo.\n",
    "\n",
    "Obs: Ou seja, sem funções prontas!"
   ]
  },
  {
   "cell_type": "code",
   "execution_count": null,
   "id": "2d2f9ccc",
   "metadata": {},
   "outputs": [],
   "source": [
    "def myMagnitude(z):\n",
    "    return ...\n",
    "\n",
    "def myPhase(z, units='rad'):\n",
    "    return ..."
   ]
  },
  {
   "cell_type": "code",
   "execution_count": null,
   "id": "f5f4a2d8",
   "metadata": {},
   "outputs": [],
   "source": [
    "myMagnitude(z), myPhase(z1, 'deg')"
   ]
  },
  {
   "cell_type": "markdown",
   "id": "e77c9142",
   "metadata": {},
   "source": [
    "# Gráfica dos números complexos"
   ]
  },
  {
   "cell_type": "markdown",
   "id": "3dc0f3c2-8fb5-4c6b-bd3a-5fd3e7de1169",
   "metadata": {},
   "source": [
    "Dado o numero $z$ anterior, plote seu gráfico no plano complexo para ambas as representações"
   ]
  },
  {
   "cell_type": "code",
   "execution_count": null,
   "id": "03958305",
   "metadata": {},
   "outputs": [],
   "source": [
    "# Plot\n",
    "x = ...\n",
    "y = ...\n",
    "\n",
    "fig, ax = plt.subplots()\n",
    "plt.plot(x, y, 'ro')\n",
    "plt.arrow(0, 0, x, y, color='r', linestyle='--')\n",
    "plt.xlabel('Re{z}')\n",
    "plt.ylabel('Im{z}')"
   ]
  },
  {
   "cell_type": "code",
   "execution_count": null,
   "id": "69b030ba-5aa9-462b-a0fd-9af826e19e09",
   "metadata": {},
   "outputs": [],
   "source": [
    "# Diagrama no plano complexo\n",
    "x = ...\n",
    "y = ...\n",
    "\n",
    "# Plot\n",
    "fig, ax = plt.subplots()\n",
    "plt.plot(x, y, 'ro')\n",
    "plt.arrow(0, 0, x, y, color='r', linestyle='--')\n",
    "plt.xlabel('Re{z}')\n",
    "plt.ylabel('Im{z}')\n",
    "figureFormat(ax, fig)"
   ]
  },
  {
   "cell_type": "markdown",
   "id": "0724f537-a734-437f-993e-3a40cf8dbec3",
   "metadata": {},
   "source": [
    "Plote os gráficos de $z^2$ e $\\sqrt{z}$ e explique os resultados"
   ]
  },
  {
   "cell_type": "code",
   "execution_count": null,
   "id": "5a7a0bdb",
   "metadata": {},
   "outputs": [],
   "source": [
    "# Potencia dos numeros complexos\n",
    "x1 = ...\n",
    "y1 = ...\n",
    "\n",
    "x2 = ...\n",
    "y2 = ...\n",
    "\n",
    "# Plot\n",
    "fig, ax = plt.subplots()\n",
    "plt.plot(x1, y1, 'ro')\n",
    "plt.arrow(0, 0, x1, y1, color='r', linestyle='--', label='z1')\n",
    "plt.plot(x2, y2, 'bo')\n",
    "plt.arrow(0, 0, x2, y2, color='b', linestyle='--', label='z2')\n",
    "plt.xlabel('Re{z}')\n",
    "plt.ylabel('Im{z}')\n",
    "plt.legend()\n",
    "figureFormat(ax, fig)"
   ]
  },
  {
   "cell_type": "code",
   "execution_count": null,
   "id": "297844e2",
   "metadata": {},
   "outputs": [],
   "source": [
    "# Raiz dos numeros complexos\n",
    "x1, y1 = ...\n",
    "x3, y3 = ...\n",
    "\n",
    "# Plot\n",
    "fig, ax = plt.subplots()\n",
    "plt.plot(x1, y1, 'ro')\n",
    "plt.arrow(0, 0, x1, y1, color='r', linestyle='--', label='z1')\n",
    "plt.plot(x3, y3, 'bo')\n",
    "plt.arrow(0, 0, x3, y3, color='b', linestyle='--', label='z3')\n",
    "plt.xlabel('Re{z}')\n",
    "plt.ylabel('Im{z}')\n",
    "plt.legend()\n",
    "plt.xlim([-5, 5])\n",
    "plt.ylim([-5, 5])\n",
    "figureFormat(ax, fig)"
   ]
  },
  {
   "cell_type": "markdown",
   "id": "44476977",
   "metadata": {},
   "source": [
    "## Curioso, não é?\n",
    "Desafio: Antecipe o gráfico do seguinte número no plano complexo"
   ]
  },
  {
   "cell_type": "code",
   "execution_count": null,
   "id": "079d57fd",
   "metadata": {},
   "outputs": [],
   "source": [
    "z = 1j ** 1j"
   ]
  },
  {
   "cell_type": "code",
   "execution_count": null,
   "id": "475fcaec",
   "metadata": {},
   "outputs": [],
   "source": []
  }
 ],
 "metadata": {
  "kernelspec": {
   "display_name": "Python 3 (ipykernel)",
   "language": "python",
   "name": "python3"
  },
  "language_info": {
   "codemirror_mode": {
    "name": "ipython",
    "version": 3
   },
   "file_extension": ".py",
   "mimetype": "text/x-python",
   "name": "python",
   "nbconvert_exporter": "python",
   "pygments_lexer": "ipython3",
   "version": "3.10.12"
  }
 },
 "nbformat": 4,
 "nbformat_minor": 5
}
